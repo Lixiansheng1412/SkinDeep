{
  "nbformat": 4,
  "nbformat_minor": 0,
  "metadata": {
    "colab": {
      "provenance": [],
      "authorship_tag": "ABX9TyOnWwdCgsyb+2IGvrqH+6kt",
      "include_colab_link": true
    },
    "kernelspec": {
      "name": "python3",
      "display_name": "Python 3"
    },
    "language_info": {
      "name": "python"
    },
    "accelerator": "GPU",
    "gpuClass": "standard"
  },
  "cells": [
    {
      "cell_type": "markdown",
      "metadata": {
        "id": "view-in-github",
        "colab_type": "text"
      },
      "source": [
        "<a href=\"https://colab.research.google.com/github/vijishmadhavan/SkinDeep/blob/master/SkinDeep_2_0.ipynb\" target=\"_parent\"><img src=\"https://colab.research.google.com/assets/colab-badge.svg\" alt=\"Open In Colab\"/></a>"
      ]
    },
    {
      "cell_type": "code",
      "execution_count": null,
      "metadata": {
        "id": "a_UotOVhsR6O"
      },
      "outputs": [],
      "source": [
        "#@title Install requirements\n",
        "\n",
        "!git clone https://github.com/vijishmadhavan/SkinDeep.git\n",
        "%cd SkinDeep\n",
        "!pip install gradio\n",
        "!pip install diffusers==0.14.0 xformers transformers scipy ftfy accelerate controlnet_aux\n",
        "!pip install -q opencv-contrib-python\n"
      ]
    },
    {
      "cell_type": "markdown",
      "source": [
        "**Please follow these instructions**\n",
        "\n",
        "\n",
        "\n",
        "*   Results depends on masking\n",
        "*   Please select all the tattoos in the body,Removing all tattoos from the body may be necessary for clean results.\n",
        "\n",
        "## Limitation\n",
        "\n",
        "- Proper masking of the tattoo is required for accurate results.\n",
        "\n",
        "- Removing all tattoos from the body may be necessary for clean results.\n",
        "\n",
        "- There is a risk of affecting facial features while removing tattoos near the face.\n",
        "\n",
        "- Manual selection and masking of tattoos is required, as there is no auto segmentation.\n",
        "\n",
        "- The free version of Colab may not support high resolution images, which can limit the quality of the final result.\n",
        "\n",
        "- If the body has no skin visibility tattoo removal would fail.\n",
        "\n",
        "\n"
      ],
      "metadata": {
        "id": "DUgcmBkytyqA"
      }
    },
    {
      "cell_type": "code",
      "source": [
        "gradioLink = \"tattoorem.py\" #@param [\"tattoorem.py\"]\n",
        "\n",
        "\n",
        "if gradioLink != \"\":\n",
        "   !python {gradioLink}"
      ],
      "metadata": {
        "id": "DItERo6puDq1",
        "cellView": "form"
      },
      "execution_count": null,
      "outputs": []
    }
  ]
}